{
  "nbformat": 4,
  "nbformat_minor": 0,
  "metadata": {
    "colab": {
      "name": "01_intro_my.ipynb",
      "provenance": [],
      "collapsed_sections": [],
      "authorship_tag": "ABX9TyPzRdd/PDnXb9mPdIfH1Gkh"
    },
    "kernelspec": {
      "name": "python3",
      "display_name": "Python 3"
    },
    "accelerator": "GPU"
  },
  "cells": [
    {
      "cell_type": "markdown",
      "metadata": {
        "id": "o0Xwj8NM7S8D"
      },
      "source": [
        "# Mount google drive as local storage\n"
      ]
    },
    {
      "cell_type": "code",
      "metadata": {
        "colab": {
          "base_uri": "https://localhost:8080/"
        },
        "id": "_pwUKf4Zsk4o",
        "outputId": "82808e3a-7388-4a93-fba1-7ca436ecd64c"
      },
      "source": [
        "from google.colab import drive\n",
        "drive.mount('/content/gdrive')"
      ],
      "execution_count": null,
      "outputs": [
        {
          "output_type": "stream",
          "text": [
            "Mounted at /content/gdrive\n"
          ],
          "name": "stdout"
        }
      ]
    },
    {
      "cell_type": "markdown",
      "metadata": {
        "id": "S2zhElSUtq_s"
      },
      "source": [
        "# Install the required libararies"
      ]
    },
    {
      "cell_type": "code",
      "metadata": {
        "id": "J-vecZFjuJa-"
      },
      "source": [
        "!pip install git+https://github.com/fastai/fastai \n",
        "!pip install git+https://github.com/fastai/fastcore"
      ],
      "execution_count": null,
      "outputs": []
    },
    {
      "cell_type": "code",
      "metadata": {
        "colab": {
          "base_uri": "https://localhost:8080/"
        },
        "id": "graXKEfMuMcH",
        "outputId": "aee61d88-d9ce-45d9-c1d1-0712dd5aa4bc"
      },
      "source": [
        "#hide\n",
        "!pip install -Uqq fastbook\n",
        "import fastbook\n",
        "fastbook.setup_book()"
      ],
      "execution_count": null,
      "outputs": [
        {
          "output_type": "stream",
          "text": [
            "\u001b[K     |████████████████████████████████| 727kB 7.4MB/s \n",
            "\u001b[K     |████████████████████████████████| 1.2MB 12.1MB/s \n",
            "\u001b[K     |████████████████████████████████| 51kB 8.9MB/s \n",
            "\u001b[?25h"
          ],
          "name": "stdout"
        }
      ]
    },
    {
      "cell_type": "markdown",
      "metadata": {
        "id": "cOBtTy_Ls9B2"
      },
      "source": [
        "#### Change directory to the location in drive where\n",
        "#### files are save"
      ]
    },
    {
      "cell_type": "markdown",
      "metadata": {
        "id": "zEAhEAzutalh"
      },
      "source": [
        "#### Check the current working directory"
      ]
    },
    {
      "cell_type": "code",
      "metadata": {
        "colab": {
          "base_uri": "https://localhost:8080/"
        },
        "id": "qCfX17uztXkO",
        "outputId": "c8678992-e14f-452e-9011-891431de3f39"
      },
      "source": [
        "!pwd"
      ],
      "execution_count": null,
      "outputs": [
        {
          "output_type": "stream",
          "text": [
            "/content\n"
          ],
          "name": "stdout"
        }
      ]
    },
    {
      "cell_type": "code",
      "metadata": {
        "colab": {
          "base_uri": "https://localhost:8080/"
        },
        "id": "mEbK9cP7tPgv",
        "outputId": "d61124c1-29d1-43ab-a5a7-143b21842ac5"
      },
      "source": [
        "%cd 'gdrive/MyDrive'"
      ],
      "execution_count": null,
      "outputs": [
        {
          "output_type": "stream",
          "text": [
            "/content/gdrive/MyDrive\n"
          ],
          "name": "stdout"
        }
      ]
    },
    {
      "cell_type": "markdown",
      "metadata": {
        "id": "DIv1FC2ltxhf"
      },
      "source": [
        "# Get files from Github\n",
        "- Enter the below code to download the required notebooks from fastai repo\n",
        "- \n",
        "`!git clone https://github.com/fastai/fastbook.git 'content/gdrive/MyDrive/'`"
      ]
    },
    {
      "cell_type": "markdown",
      "metadata": {
        "id": "2NrJE7y2tZC8"
      },
      "source": [
        "# Sync the files with FastAi Repo"
      ]
    },
    {
      "cell_type": "code",
      "metadata": {
        "colab": {
          "base_uri": "https://localhost:8080/"
        },
        "id": "hr3Ff20btpWV",
        "outputId": "852f7004-5e45-4cbe-d514-21addd588fce"
      },
      "source": [
        "!git pull"
      ],
      "execution_count": null,
      "outputs": [
        {
          "output_type": "stream",
          "text": [
            "Already up to date.\n"
          ],
          "name": "stdout"
        }
      ]
    },
    {
      "cell_type": "markdown",
      "metadata": {
        "id": "28zK6kqvvAHl"
      },
      "source": [
        "# 1. Starting DeepLearning"
      ]
    },
    {
      "cell_type": "code",
      "metadata": {
        "id": "IRoemk1EwDSf"
      },
      "source": [
        "# Import the required modules\n",
        "from fastbook import *\n",
        "# we Generally don't import all functions in a module but\n",
        "# fastai is specially made for supporting these types of functionality"
      ],
      "execution_count": null,
      "outputs": []
    },
    {
      "cell_type": "code",
      "metadata": {
        "id": "wWUuDukFwMQb"
      },
      "source": [
        "# Importing the fastai image related libs\n",
        "from fastai.vision.all import *\n",
        "\n",
        "# Downloading the image dataset and saving the path into variable path\n"
      ],
      "execution_count": null,
      "outputs": []
    }
  ]
}